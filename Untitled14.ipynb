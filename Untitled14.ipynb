{
  "nbformat": 4,
  "nbformat_minor": 0,
  "metadata": {
    "colab": {
      "provenance": [],
      "authorship_tag": "ABX9TyNu4MlphA8zCiWMoFyeCPo1",
      "include_colab_link": true
    },
    "kernelspec": {
      "name": "python3",
      "display_name": "Python 3"
    },
    "language_info": {
      "name": "python"
    }
  },
  "cells": [
    {
      "cell_type": "markdown",
      "metadata": {
        "id": "view-in-github",
        "colab_type": "text"
      },
      "source": [
        "<a href=\"https://colab.research.google.com/github/gun2323/colab/blob/main/Untitled14.ipynb\" target=\"_parent\"><img src=\"https://colab.research.google.com/assets/colab-badge.svg\" alt=\"Open In Colab\"/></a>"
      ]
    },
    {
      "cell_type": "code",
      "execution_count": null,
      "metadata": {
        "id": "WpIfYMy42pDb"
      },
      "outputs": [],
      "source": [
        "i = 0\n",
        "j = 0\n",
        "\n",
        "for i in range(2, 10) :\n",
        "  for j in range(1,10) :\n",
        "    print(i, \"X\", j, \"=\", i * j)\n",
        "  print(\"\")"
      ]
    },
    {
      "cell_type": "code",
      "source": [
        "i, hap = 0, 0\n",
        "\n",
        "for i in range(1,101,1) :\n",
        "  if i % 4 == 0 :\n",
        "    continue\n",
        "\n",
        "  hap += i\n",
        "\n",
        "print(\"1~100의 합계(4의 배수 제외) : \", hap)"
      ],
      "metadata": {
        "id": "7pFPV8kX2uK7"
      },
      "execution_count": null,
      "outputs": []
    },
    {
      "cell_type": "code",
      "source": [
        "import random\n",
        "count = 0\n",
        "dice1, dice2, dice3 = 0,0,0\n",
        "\n",
        "while True :\n",
        "  count += 1\n",
        "  dice1 = random.randint(1,6)\n",
        "  dice2 = random.randint(1,6)\n",
        "  dice3 = random.randint(1,6)\n",
        "\n",
        "  if (dice1 == dice2 == dice3) :\n",
        "    break\n",
        "\n",
        "print(\"3개의 주사위는 모두\", dice1, \"입니다.\")\n",
        "print(\"같은 숫자가 나오기까지\", count, \"번 던졌습니다.\")"
      ],
      "metadata": {
        "id": "UqzGamQS2viR"
      },
      "execution_count": null,
      "outputs": []
    },
    {
      "cell_type": "code",
      "source": [
        "import random\n",
        "computer, user = 0,0\n",
        "\n",
        "for i in range(1,11) :\n",
        "  computer = random.randint(1, 5)\n",
        "  print(\"게임\", i, \"회:\", end='')\n",
        "  user = int(input(\"컴퓨터가 생각한 숫자는 ? \"))\n",
        "\n",
        "  if computer == user :\n",
        "    print(\"맞혔네요. 축하합니다!!\")\n",
        "    break\n",
        "  else :\n",
        "    print(\"아까워요.\", computer, \"였는데요. 다시 해보세요.ㅠ\")\n",
        "    continue\n",
        "print(\"게임을 마칩니다.\")"
      ],
      "metadata": {
        "id": "2WG1y0wW2xNR"
      },
      "execution_count": null,
      "outputs": []
    }
  ]
}