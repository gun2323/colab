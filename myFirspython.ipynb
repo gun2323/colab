{
  "nbformat": 4,
  "nbformat_minor": 0,
  "metadata": {
    "colab": {
      "name": "myFirspython.ipynb",
      "provenance": [],
      "authorship_tag": "ABX9TyNYx6TT5ciwZNVcsLXoIHMd",
      "include_colab_link": true
    },
    "kernelspec": {
      "name": "python3",
      "display_name": "Python 3"
    },
    "language_info": {
      "name": "python"
    }
  },
  "cells": [
    {
      "cell_type": "markdown",
      "metadata": {
        "id": "view-in-github",
        "colab_type": "text"
      },
      "source": [
        "<a href=\"https://colab.research.google.com/github/gun2323/colab/blob/main/myFirspython.ipynb\" target=\"_parent\"><img src=\"https://colab.research.google.com/assets/colab-badge.svg\" alt=\"Open In Colab\"/></a>"
      ]
    },
    {
      "cell_type": "code",
      "source": [
        "print(\"컴퓨터과 30202\")"
      ],
      "metadata": {
        "id": "X9xSOiRgSh-U"
      },
      "execution_count": null,
      "outputs": []
    }
  ]
}