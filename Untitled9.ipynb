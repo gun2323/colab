{
  "nbformat": 4,
  "nbformat_minor": 0,
  "metadata": {
    "colab": {
      "provenance": [],
      "authorship_tag": "ABX9TyM370nndwVQYkNOAM4UV7dR",
      "include_colab_link": true
    },
    "kernelspec": {
      "name": "python3",
      "display_name": "Python 3"
    },
    "language_info": {
      "name": "python"
    }
  },
  "cells": [
    {
      "cell_type": "markdown",
      "metadata": {
        "id": "view-in-github",
        "colab_type": "text"
      },
      "source": [
        "<a href=\"https://colab.research.google.com/github/gun2323/colab/blob/main/Untitled9.ipynb\" target=\"_parent\"><img src=\"https://colab.research.google.com/assets/colab-badge.svg\" alt=\"Open In Colab\"/></a>"
      ]
    },
    {
      "cell_type": "code",
      "execution_count": null,
      "metadata": {
        "id": "T9qlBtXCRLCy"
      },
      "outputs": [],
      "source": [
        "numList = []\n",
        "for i in range(0,4) :\n",
        "  numList.append(0)\n",
        "hap = 0\n",
        "\n",
        "for i in range(0,4) :\n",
        "  numList[i] = int(input( \"숫자 :\"))\n"
      ]
    },
    {
      "cell_type": "code",
      "source": [
        "score = [0,0,0,0,0]\n",
        "sum, avg = 0,0\n",
        "print(\"김안공 선수 경기가 끝났습니다. ~ 짝짝짝\")\n",
        "\n",
        "for i in range(0,5) :\n",
        "  score[i] = int(input(\" 평가 점수 ==> \"))\n",
        "  sum = sum + score[i]\n",
        "avg = sum / 5\n",
        "print(\"심사위원의 평균 점수 ==> \",avg)  "
      ],
      "metadata": {
        "colab": {
          "base_uri": "https://localhost:8080/"
        },
        "id": "7PUn4tWKaq2i",
        "outputId": "8137953d-6312-4934-87aa-cd547a4944ec"
      },
      "execution_count": null,
      "outputs": [
        {
          "output_type": "stream",
          "name": "stdout",
          "text": [
            "김안공 선수 경기가 끝났습니다. ~ 짝짝짝\n"
          ]
        }
      ]
    },
    {
      "cell_type": "code",
      "source": [],
      "metadata": {
        "id": "EbMXj_J1f9cB"
      },
      "execution_count": null,
      "outputs": []
    }
  ]
}