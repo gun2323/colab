{
  "nbformat": 4,
  "nbformat_minor": 0,
  "metadata": {
    "colab": {
      "name": "Untitled0.ipynb",
      "provenance": [],
      "authorship_tag": "ABX9TyNMp2xxnJfe/iiabQ6qtujR",
      "include_colab_link": true
    },
    "kernelspec": {
      "name": "python3",
      "display_name": "Python 3"
    },
    "language_info": {
      "name": "python"
    }
  },
  "cells": [
    {
      "cell_type": "markdown",
      "metadata": {
        "id": "view-in-github",
        "colab_type": "text"
      },
      "source": [
        "<a href=\"https://colab.research.google.com/github/gun2323/colab/blob/main/Untitled0.ipynb\" target=\"_parent\"><img src=\"https://colab.research.google.com/assets/colab-badge.svg\" alt=\"Open In Colab\"/></a>"
      ]
    },
    {
      "cell_type": "markdown",
      "source": [
        "3장 연산자\n",
        "형성평가-파운드를 킬로그램으로 변경"
      ],
      "metadata": {
        "id": "r5jkt7oJzbtq"
      }
    },
    {
      "cell_type": "code",
      "source": [
        "pound = float(input (\"파운드를 입력하세요 :\"))\n",
        "kg = pound * 0.453592\n",
        "print(pound, \"파운드는\", round(kg, 3), \"킬로그램입니다.\")\n",
        "kg = float(input(\"킬로그램을 입력하세요 :\"))\n",
        "pound = kg * 2.204623\n",
        "print(kg, \"킬로그램은\", round(pound, 3), \"파운드입니다.\")"
      ],
      "metadata": {
        "colab": {
          "base_uri": "https://localhost:8080/"
        },
        "id": "kio4Z2i3yhVz",
        "outputId": "a5ba3c6d-19bc-4d4a-f918-522863831f3a"
      },
      "execution_count": 5,
      "outputs": [
        {
          "output_type": "stream",
          "name": "stdout",
          "text": [
            "파운드를 입력하세요 :15\n",
            "15.0 파운드는 6.804 킬로그램입니다.\n",
            "킬로그램을 입력하세요 :15\n",
            "15.0 킬로그램은 33.069 파운드입니다.\n"
          ]
        }
      ]
    },
    {
      "cell_type": "markdown",
      "source": [
        "2번째 형성평가"
      ],
      "metadata": {
        "id": "iTViZRd43N7j"
      }
    },
    {
      "cell_type": "code",
      "source": [
        "sell, buy = 0,0\n",
        "#삼각김밥 구매\n",
        "buy += (900*10)\n",
        "#바나나맛 우유 판매\n",
        "sell += (1800*2)\n",
        "#도시락 판매\n",
        "sell += (4000*4)\n",
        "#도시락 판매\n",
        "sell += (3500*5)\n",
        "#콜라 판매\n",
        "sell += (1500*1)\n",
        "#새우깡 판매\n",
        "sell += (2000*4)\n",
        "#캔커피 판매\n",
        "sell += (1800*5)\n",
        "print('오늘 총 매출액은', sell-buy, '원입니다') "
      ],
      "metadata": {
        "colab": {
          "base_uri": "https://localhost:8080/"
        },
        "id": "2w2go8og3KRE",
        "outputId": "71700ab5-9274-4382-ee45-03815f973a94"
      },
      "execution_count": 12,
      "outputs": [
        {
          "output_type": "stream",
          "name": "stdout",
          "text": [
            "오늘 총 매출액은 46600 원입니다\n"
          ]
        }
      ]
    }
  ]
}