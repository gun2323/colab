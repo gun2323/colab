{
  "nbformat": 4,
  "nbformat_minor": 0,
  "metadata": {
    "colab": {
      "provenance": [],
      "authorship_tag": "ABX9TyP20XWoxcFwPme86LVKvLmq",
      "include_colab_link": true
    },
    "kernelspec": {
      "name": "python3",
      "display_name": "Python 3"
    },
    "language_info": {
      "name": "python"
    }
  },
  "cells": [
    {
      "cell_type": "markdown",
      "metadata": {
        "id": "view-in-github",
        "colab_type": "text"
      },
      "source": [
        "<a href=\"https://colab.research.google.com/github/gun2323/colab/blob/main/Untitled10.ipynb\" target=\"_parent\"><img src=\"https://colab.research.google.com/assets/colab-badge.svg\" alt=\"Open In Colab\"/></a>"
      ]
    },
    {
      "cell_type": "code",
      "execution_count": null,
      "metadata": {
        "id": "RsQHjn1W_w-8"
      },
      "outputs": [],
      "source": [
        "# 1. 문자열 대/소문자 변환\n",
        "\n",
        "text = input('원본 문자열 ==> ')\n",
        "print('변환 문자열 ==> ', end='')\n",
        "\n",
        "for i in range(len(text)):\n",
        "    if(text[i].isupper() == True):\n",
        "        print(text[i].lower(), end='')\n",
        "    else:\n",
        "        print(text[i].upper(), end='')"
      ]
    },
    {
      "cell_type": "code",
      "source": [
        "# 2. 문자열 순서 반대로 출력\n",
        "\n",
        "text = input('원본 문자열 ==> ')\n",
        "\n",
        "print('반대 문자열 ==> ', end='')\n",
        "for i in range(1, len(text) + 1):\n",
        "    print(text[-i], end='')\n"
      ],
      "metadata": {
        "id": "dffmyXo0_4j1"
      },
      "execution_count": null,
      "outputs": []
    },
    {
      "cell_type": "code",
      "source": [
        "# 3. 두 개의 문자열 길이 비교\n",
        "\n",
        "text1 = input('첫 번째 문자열 ==> ')\n",
        "text2 = input('두 번째 문자열 ==> ')\n",
        "\n",
        "print('두 문자열의 길이 차이는', len(text1) - len(text2), '입니다.')"
      ],
      "metadata": {
        "id": "8qTXFlIN_8Jr"
      },
      "execution_count": null,
      "outputs": []
    },
    {
      "cell_type": "code",
      "source": [
        "# 4. 파운드(lb) <==> 킬로그램(kg) 변환\n",
        "\n",
        "pound = float(input('파운드(lb)를 입력하세요 : '))\n",
        "print(pound, '파운드(lb)는', round(pound * 0.453592, 5), '킬로그램(kg)입니다.')\n",
        "\n",
        "kg = float(input('킬로그램(kg)을 입력하세요 : '))\n",
        "print(kg, '킬로그램(kg)는', round(kg * 2.204623, 5), '파운드(lb)입니다.')"
      ],
      "metadata": {
        "id": "NlPabuZJ_-fQ"
      },
      "execution_count": null,
      "outputs": []
    }
  ]
}