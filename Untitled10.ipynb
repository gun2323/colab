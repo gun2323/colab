{
  "nbformat": 4,
  "nbformat_minor": 0,
  "metadata": {
    "colab": {
      "provenance": [],
      "authorship_tag": "ABX9TyP20XWoxcFwPme86LVKvLmq",
      "include_colab_link": true
    },
    "kernelspec": {
      "name": "python3",
      "display_name": "Python 3"
    },
    "language_info": {
      "name": "python"
    }
  },
  "cells": [
    {
      "cell_type": "markdown",
      "metadata": {
        "id": "view-in-github",
        "colab_type": "text"
      },
      "source": [
        "<a href=\"https://colab.research.google.com/github/gun2323/colab/blob/main/Untitled10.ipynb\" target=\"_parent\"><img src=\"https://colab.research.google.com/assets/colab-badge.svg\" alt=\"Open In Colab\"/></a>"
      ]
    },
    {
      "cell_type": "code",
      "execution_count": 2,
      "metadata": {
        "colab": {
          "base_uri": "https://localhost:8080/"
        },
        "id": "RsQHjn1W_w-8",
        "outputId": "de2c083a-cc2c-4472-8d9a-0fa65d6cc83d"
      },
      "outputs": [
        {
          "output_type": "stream",
          "name": "stdout",
          "text": [
            "원본 문자열 ==> llllllllllllllll\n",
            "변환 문자열 ==> LLLLLLLLLLLLLLLL"
          ]
        }
      ],
      "source": [
        "# 1. 문자열 대/소문자 변환\n",
        "\n",
        "text = input('원본 문자열 ==> ')\n",
        "print('변환 문자열 ==> ', end='')\n",
        "\n",
        "for i in range(len(text)):\n",
        "    if(text[i].isupper() == True):\n",
        "        print(text[i].lower(), end='')\n",
        "    else:\n",
        "        print(text[i].upper(), end='')"
      ]
    },
    {
      "cell_type": "code",
      "source": [
        "# 2. 문자열 순서 반대로 출력\n",
        "\n",
        "text = input('원본 문자열 ==> ')\n",
        "\n",
        "print('반대 문자열 ==> ', end='')\n",
        "for i in range(1, len(text) + 1):\n",
        "    print(text[-i], end='')\n"
      ],
      "metadata": {
        "colab": {
          "base_uri": "https://localhost:8080/"
        },
        "id": "dffmyXo0_4j1",
        "outputId": "1eb60843-8aea-4b23-f86c-7393ccb7fae5"
      },
      "execution_count": 3,
      "outputs": [
        {
          "output_type": "stream",
          "name": "stdout",
          "text": [
            "원본 문자열 ==> 가보자고\n",
            "반대 문자열 ==> 고자보가"
          ]
        }
      ]
    },
    {
      "cell_type": "code",
      "source": [
        "# 3. 두 개의 문자열 길이 비교\n",
        "\n",
        "text1 = input('첫 번째 문자열 ==> ')\n",
        "text2 = input('두 번째 문자열 ==> ')\n",
        "\n",
        "print('두 문자열의 길이 차이는', len(text1) - len(text2), '입니다.')"
      ],
      "metadata": {
        "colab": {
          "base_uri": "https://localhost:8080/"
        },
        "id": "8qTXFlIN_8Jr",
        "outputId": "3dfcc54b-a51a-4443-c07a-b9dba6b4ff5f"
      },
      "execution_count": 4,
      "outputs": [
        {
          "output_type": "stream",
          "name": "stdout",
          "text": [
            "첫 번째 문자열 ==> 월화수목금\n",
            "두 번째 문자열 ==> 토일\n",
            "두 문자열의 길이 차이는 3 입니다.\n"
          ]
        }
      ]
    },
    {
      "cell_type": "code",
      "source": [
        "# 4. 파운드(lb) <==> 킬로그램(kg) 변환\n",
        "\n",
        "pound = float(input('파운드(lb)를 입력하세요 : '))\n",
        "print(pound, '파운드(lb)는', round(pound * 0.453592, 5), '킬로그램(kg)입니다.')\n",
        "\n",
        "kg = float(input('킬로그램(kg)을 입력하세요 : '))\n",
        "print(kg, '킬로그램(kg)는', round(kg * 2.204623, 5), '파운드(lb)입니다.')"
      ],
      "metadata": {
        "colab": {
          "base_uri": "https://localhost:8080/"
        },
        "id": "NlPabuZJ_-fQ",
        "outputId": "89443f7d-823c-4d3f-87b6-324917224a75"
      },
      "execution_count": 5,
      "outputs": [
        {
          "output_type": "stream",
          "name": "stdout",
          "text": [
            "파운드(lb)를 입력하세요 : 2.204623\n",
            "2.204623 파운드(lb)는 1.0 킬로그램(kg)입니다.\n",
            "킬로그램(kg)을 입력하세요 : 0.453592\n",
            "0.453592 킬로그램(kg)는 1.0 파운드(lb)입니다.\n"
          ]
        }
      ]
    }
  ]
}