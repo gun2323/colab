{
  "nbformat": 4,
  "nbformat_minor": 0,
  "metadata": {
    "colab": {
      "provenance": [],
      "authorship_tag": "ABX9TyOcPnqOldPrPxmCKSiCoHXs",
      "include_colab_link": true
    },
    "kernelspec": {
      "name": "python3",
      "display_name": "Python 3"
    },
    "language_info": {
      "name": "python"
    }
  },
  "cells": [
    {
      "cell_type": "markdown",
      "metadata": {
        "id": "view-in-github",
        "colab_type": "text"
      },
      "source": [
        "<a href=\"https://colab.research.google.com/github/gun2323/colab/blob/main/Untitled11.ipynb\" target=\"_parent\"><img src=\"https://colab.research.google.com/assets/colab-badge.svg\" alt=\"Open In Colab\"/></a>"
      ]
    },
    {
      "cell_type": "code",
      "execution_count": 2,
      "metadata": {
        "colab": {
          "base_uri": "https://localhost:8080/"
        },
        "id": "Ev29iXz2Apjn",
        "outputId": "d070d0f1-4480-4ecb-f6ca-6b9765be7946"
      },
      "outputs": [
        {
          "output_type": "stream",
          "name": "stdout",
          "text": [
            "원본 문자열 ==> Python\n",
            "변환 문자열 ==> pYTHON"
          ]
        }
      ],
      "source": [
        "text = input('원본 문자열 ==> ')\n",
        "print('변환 문자열 ==> ', end='')\n",
        "\n",
        "for i in range(len(text)):\n",
        "    if(text[i].isupper() == True):\n",
        "        print(text[i].lower(), end='')\n",
        "    else:\n",
        "        print(text[i].upper(), end='')"
      ]
    }
  ]
}