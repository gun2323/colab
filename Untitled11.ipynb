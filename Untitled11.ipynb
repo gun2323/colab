{
  "nbformat": 4,
  "nbformat_minor": 0,
  "metadata": {
    "colab": {
      "provenance": [],
      "authorship_tag": "ABX9TyOzQLsiTrsFoey4ztwL2AJk",
      "include_colab_link": true
    },
    "kernelspec": {
      "name": "python3",
      "display_name": "Python 3"
    },
    "language_info": {
      "name": "python"
    }
  },
  "cells": [
    {
      "cell_type": "markdown",
      "metadata": {
        "id": "view-in-github",
        "colab_type": "text"
      },
      "source": [
        "<a href=\"https://colab.research.google.com/github/gun2323/colab/blob/main/Untitled11.ipynb\" target=\"_parent\"><img src=\"https://colab.research.google.com/assets/colab-badge.svg\" alt=\"Open In Colab\"/></a>"
      ]
    },
    {
      "cell_type": "code",
      "execution_count": 2,
      "metadata": {
        "colab": {
          "base_uri": "https://localhost:8080/"
        },
        "id": "Ev29iXz2Apjn",
        "outputId": "d070d0f1-4480-4ecb-f6ca-6b9765be7946"
      },
      "outputs": [
        {
          "output_type": "stream",
          "name": "stdout",
          "text": [
            "원본 문자열 ==> Python\n",
            "변환 문자열 ==> pYTHON"
          ]
        }
      ],
      "source": [
        "text = input('원본 문자열 ==> ')\n",
        "print('변환 문자열 ==> ', end='')\n",
        "\n",
        "for i in range(len(text)):\n",
        "    if(text[i].isupper() == True):\n",
        "        print(text[i].lower(), end='')\n",
        "    else:\n",
        "        print(text[i].upper(), end='')"
      ]
    },
    {
      "cell_type": "code",
      "source": [
        "text = input('원본 문자열 ==> ')\n",
        "\n",
        "print('반대 문자열 ==> ', end='')\n",
        "for i in range(1, len(text) + 1):\n",
        "    print(text[-i], end='')"
      ],
      "metadata": {
        "colab": {
          "base_uri": "https://localhost:8080/"
        },
        "id": "DujihJjmn1TF",
        "outputId": "d760e9d3-90e6-460b-910a-61d15329ff22"
      },
      "execution_count": 3,
      "outputs": [
        {
          "output_type": "stream",
          "name": "stdout",
          "text": [
            "원본 문자열 ==> 트와이스\n",
            "반대 문자열 ==> 스이와트"
          ]
        }
      ]
    },
    {
      "cell_type": "code",
      "source": [
        "text1 = input('첫 번째 문자열 ==> ')\n",
        "text2 = input('두 번째 문자열 ==> ')\n",
        "\n",
        "print('두 문자열의 길이 차이는', len(text1) - len(text2), '입니다.')"
      ],
      "metadata": {
        "colab": {
          "base_uri": "https://localhost:8080/"
        },
        "id": "7lmQfa8ExWX3",
        "outputId": "0f778dcc-d523-481b-e2b2-14851b736f27"
      },
      "execution_count": 4,
      "outputs": [
        {
          "output_type": "stream",
          "name": "stdout",
          "text": [
            "첫 번째 문자열 ==> 난생처음 파이썬\n",
            "두 번째 문자열 ==> First Python\n",
            "두 문자열의 길이 차이는 -4 입니다.\n"
          ]
        }
      ]
    },
    {
      "cell_type": "code",
      "source": [
        "pound = float(input('파운드(lb)를 입력하세요 : '))\n",
        "print(pound, '파운드(lb)는', round(pound * 0.453592, 5), '킬로그램(kg)입니다.')\n",
        "\n",
        "kg = float(input('킬로그램(kg)을 입력하세요 : '))\n",
        "print(kg, '킬로그램(kg)는', round(kg * 2.204623, 5), '파운드(lb)입니다.')"
      ],
      "metadata": {
        "colab": {
          "base_uri": "https://localhost:8080/"
        },
        "id": "CA0vNbhJyQrW",
        "outputId": "ab4883ee-91ad-469f-ca21-aa8a87ebb55a"
      },
      "execution_count": 5,
      "outputs": [
        {
          "output_type": "stream",
          "name": "stdout",
          "text": [
            "파운드(lb)를 입력하세요 : 15\n",
            "15.0 파운드(lb)는 6.80388 킬로그램(kg)입니다.\n",
            "킬로그램(kg)을 입력하세요 : 15\n",
            "15.0 킬로그램(kg)는 33.06935 파운드(lb)입니다.\n"
          ]
        }
      ]
    }
  ]
}