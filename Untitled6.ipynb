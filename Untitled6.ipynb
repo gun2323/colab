{
  "nbformat": 4,
  "nbformat_minor": 0,
  "metadata": {
    "colab": {
      "provenance": [],
      "authorship_tag": "ABX9TyNr40MkDxsVWNB9Lgw9ruPA",
      "include_colab_link": true
    },
    "kernelspec": {
      "name": "python3",
      "display_name": "Python 3"
    },
    "language_info": {
      "name": "python"
    }
  },
  "cells": [
    {
      "cell_type": "markdown",
      "metadata": {
        "id": "view-in-github",
        "colab_type": "text"
      },
      "source": [
        "<a href=\"https://colab.research.google.com/github/gun2323/colab/blob/main/Untitled6.ipynb\" target=\"_parent\"><img src=\"https://colab.research.google.com/assets/colab-badge.svg\" alt=\"Open In Colab\"/></a>"
      ]
    },
    {
      "cell_type": "code",
      "execution_count": 2,
      "metadata": {
        "colab": {
          "base_uri": "https://localhost:8080/"
        },
        "id": "wayffRMtJdFa",
        "outputId": "1fd17c52-ae4d-4c2c-f392-83dcc4e95d97"
      },
      "outputs": [
        {
          "output_type": "stream",
          "name": "stdout",
          "text": [
            "안산공고 컴퓨터과 최고\n",
            "하이\n",
            "안산공고 컴퓨터과 최고\n",
            "하이\n",
            "안산공고 컴퓨터과 최고\n",
            "하이\n"
          ]
        }
      ],
      "source": [
        "for i in range(3) :\n",
        "  print(\"안산공고 컴퓨터과 최고\")\n",
        "  print(\"하이\")"
      ]
    },
    {
      "cell_type": "code",
      "source": [
        "fact = 1\n",
        "friends_num = 5\n",
        "\n",
        "for i in range(1,friends_num + 1,1):\n",
        "  fact = fact * i"
      ],
      "metadata": {
        "id": "Pby7whBaOLoT"
      },
      "execution_count": null,
      "outputs": []
    },
    {
      "cell_type": "code",
      "source": [
        "hap = 0\n",
        "for i in range(1, 11, 1):\n",
        "  hap = hap + i\n",
        "\n",
        "print(\"1에서 10까지의 합 :\", hap)  "
      ],
      "metadata": {
        "colab": {
          "base_uri": "https://localhost:8080/"
        },
        "id": "ByqzggqOO8Wy",
        "outputId": "bc58aec7-7571-442b-c134-7e5733e596c5"
      },
      "execution_count": 3,
      "outputs": [
        {
          "output_type": "stream",
          "name": "stdout",
          "text": [
            "1에서 10까지의 합 : 55\n"
          ]
        }
      ]
    },
    {
      "cell_type": "code",
      "source": [
        ">>> for i in range (3) :\n",
        "        for k in range(2) :\n",
        "          print(\"난생처음은 쉽습니다.^^(i값:\",i,\", k값:\",k,\")\")"
      ],
      "metadata": {
        "colab": {
          "base_uri": "https://localhost:8080/"
        },
        "id": "CjnZZe3ePoK8",
        "outputId": "1e303e7d-9070-4698-a0f1-4d65a51298eb"
      },
      "execution_count": 4,
      "outputs": [
        {
          "output_type": "stream",
          "name": "stdout",
          "text": [
            "난생처음은 쉽습니다.^^(i값: 0 , k값: 0 )\n",
            "난생처음은 쉽습니다.^^(i값: 0 , k값: 1 )\n",
            "난생처음은 쉽습니다.^^(i값: 1 , k값: 0 )\n",
            "난생처음은 쉽습니다.^^(i값: 1 , k값: 1 )\n",
            "난생처음은 쉽습니다.^^(i값: 2 , k값: 0 )\n",
            "난생처음은 쉽습니다.^^(i값: 2 , k값: 1 )\n"
          ]
        }
      ]
    },
    {
      "cell_type": "code",
      "source": [
        "i = 0\n",
        "j = 0\n",
        "\n",
        "for i in range(2, 10) :\n",
        "  for j in range(1, 10) :\n",
        "    print(i,\"X\",j,\"=\",i * j)\n",
        "    print(\"\")"
      ],
      "metadata": {
        "colab": {
          "base_uri": "https://localhost:8080/"
        },
        "id": "VfF1vO-jT_LO",
        "outputId": "4478b769-e602-4556-fa0d-d4edab67e36e"
      },
      "execution_count": 5,
      "outputs": [
        {
          "output_type": "stream",
          "name": "stdout",
          "text": [
            "2 X 1 = 2\n",
            "\n",
            "2 X 2 = 4\n",
            "\n",
            "2 X 3 = 6\n",
            "\n",
            "2 X 4 = 8\n",
            "\n",
            "2 X 5 = 10\n",
            "\n",
            "2 X 6 = 12\n",
            "\n",
            "2 X 7 = 14\n",
            "\n",
            "2 X 8 = 16\n",
            "\n",
            "2 X 9 = 18\n",
            "\n",
            "3 X 1 = 3\n",
            "\n",
            "3 X 2 = 6\n",
            "\n",
            "3 X 3 = 9\n",
            "\n",
            "3 X 4 = 12\n",
            "\n",
            "3 X 5 = 15\n",
            "\n",
            "3 X 6 = 18\n",
            "\n",
            "3 X 7 = 21\n",
            "\n",
            "3 X 8 = 24\n",
            "\n",
            "3 X 9 = 27\n",
            "\n",
            "4 X 1 = 4\n",
            "\n",
            "4 X 2 = 8\n",
            "\n",
            "4 X 3 = 12\n",
            "\n",
            "4 X 4 = 16\n",
            "\n",
            "4 X 5 = 20\n",
            "\n",
            "4 X 6 = 24\n",
            "\n",
            "4 X 7 = 28\n",
            "\n",
            "4 X 8 = 32\n",
            "\n",
            "4 X 9 = 36\n",
            "\n",
            "5 X 1 = 5\n",
            "\n",
            "5 X 2 = 10\n",
            "\n",
            "5 X 3 = 15\n",
            "\n",
            "5 X 4 = 20\n",
            "\n",
            "5 X 5 = 25\n",
            "\n",
            "5 X 6 = 30\n",
            "\n",
            "5 X 7 = 35\n",
            "\n",
            "5 X 8 = 40\n",
            "\n",
            "5 X 9 = 45\n",
            "\n",
            "6 X 1 = 6\n",
            "\n",
            "6 X 2 = 12\n",
            "\n",
            "6 X 3 = 18\n",
            "\n",
            "6 X 4 = 24\n",
            "\n",
            "6 X 5 = 30\n",
            "\n",
            "6 X 6 = 36\n",
            "\n",
            "6 X 7 = 42\n",
            "\n",
            "6 X 8 = 48\n",
            "\n",
            "6 X 9 = 54\n",
            "\n",
            "7 X 1 = 7\n",
            "\n",
            "7 X 2 = 14\n",
            "\n",
            "7 X 3 = 21\n",
            "\n",
            "7 X 4 = 28\n",
            "\n",
            "7 X 5 = 35\n",
            "\n",
            "7 X 6 = 42\n",
            "\n",
            "7 X 7 = 49\n",
            "\n",
            "7 X 8 = 56\n",
            "\n",
            "7 X 9 = 63\n",
            "\n",
            "8 X 1 = 8\n",
            "\n",
            "8 X 2 = 16\n",
            "\n",
            "8 X 3 = 24\n",
            "\n",
            "8 X 4 = 32\n",
            "\n",
            "8 X 5 = 40\n",
            "\n",
            "8 X 6 = 48\n",
            "\n",
            "8 X 7 = 56\n",
            "\n",
            "8 X 8 = 64\n",
            "\n",
            "8 X 9 = 72\n",
            "\n",
            "9 X 1 = 9\n",
            "\n",
            "9 X 2 = 18\n",
            "\n",
            "9 X 3 = 27\n",
            "\n",
            "9 X 4 = 36\n",
            "\n",
            "9 X 5 = 45\n",
            "\n",
            "9 X 6 = 54\n",
            "\n",
            "9 X 7 = 63\n",
            "\n",
            "9 X 8 = 72\n",
            "\n",
            "9 X 9 = 81\n",
            "\n"
          ]
        }
      ]
    },
    {
      "cell_type": "code",
      "source": [
        "hap = 0\n",
        "num1, num2 =0, 0\n",
        "\n",
        "while True :\n",
        "  num1 = int(input(\"숫자1 ==>\"))\n",
        "  num1 = int(input(\"숫자1 ==>\"))\n",
        "\n",
        "  hap = num1 + num2\n",
        "  print(num1, \"+\", num2, \"=\", hap)"
      ],
      "metadata": {
        "id": "in2vX5uIWNRO"
      },
      "execution_count": null,
      "outputs": []
    },
    {
      "cell_type": "code",
      "source": [
        "import random\n",
        "r1 = random.randint(1,6)\n",
        "r2 = random.randint(1,6)\n",
        "r3 = random.randint(1,6)\n",
        "print(r1,r2,r3)"
      ],
      "metadata": {
        "colab": {
          "base_uri": "https://localhost:8080/"
        },
        "id": "BEYgBQrbYZ0j",
        "outputId": "ab3cd509-c607-466b-bf8e-e33267bc8a7a"
      },
      "execution_count": 12,
      "outputs": [
        {
          "output_type": "stream",
          "name": "stdout",
          "text": [
            "1 5 6\n"
          ]
        }
      ]
    },
    {
      "cell_type": "code",
      "source": [
        "import random\n",
        "count = 0\n",
        "while True :\n",
        "  r1, r2 = random.randint(1,6), random.randint(1,6)\n",
        "  r3 = random.randint(1,6)\n",
        "  count = count + 1\n",
        "  if r1 == r2 == r3 : break\n",
        "print(\"3개의 주사위는 모두 \", r1, \"나왔다.\")\n",
        "print(\"같은 숫자가 나오기까지 \", count,\"번 던졌습니다.\")"
      ],
      "metadata": {
        "colab": {
          "base_uri": "https://localhost:8080/"
        },
        "id": "tq4tmJl2aseK",
        "outputId": "c1ea4593-5e79-43a8-92c4-0fdc03fea9b5"
      },
      "execution_count": 14,
      "outputs": [
        {
          "output_type": "stream",
          "name": "stdout",
          "text": [
            "3개의 주사위는 모두  2 나왔다.\n",
            "같은 숫자가 나오기까지  58 번 던졌습니다.\n"
          ]
        }
      ]
    },
    {
      "cell_type": "code",
      "source": [
        "import random\n",
        "com_list = [1,2,3,4,5,6,7,8,9]\n",
        "com_num, usr_num = [], []\n",
        "\n",
        "def usr_fun() :\n",
        "  usr = input(\"3개의 숫자를 입력(1~9까지) ==> \")\n",
        "  for i in range(0,5,2) :\n",
        "    usr_num.append(int(usr[i]))\n",
        "\n",
        "# 컴퓨터 - 3개의 중복되지 않는 숫자 만들기  \n",
        "for i in range(3) :\n",
        "  r = random.choice(com_list)\n",
        "  com_list.remove(r)\n",
        "  com_num.append(r)\n",
        "\n",
        "print(\"** 야구 게임 ** \")\n",
        "#스트라이크 및 볼 판정 ---------------------------\n",
        "strike, ball = 0, 0\n",
        "while True :\n",
        "  usr_num.clear()\n",
        "  usr_fun()\n",
        "  for i in range(3) :\n",
        "    if com_num[i] == usr_num[i] :\n",
        "      strike = strike + 1\n",
        "    elif usr_num[i] in com_num :\n",
        "      ball = ball + 1\n",
        "  print(strike, \"스트라이크\", \" : \", ball, \"볼\")\n",
        "  if strike == 3 : \n",
        "    print(\"축하합니다.\")\n",
        "    break\n",
        "  strike, ball = 0, "
      ],
      "metadata": {
        "colab": {
          "base_uri": "https://localhost:8080/"
        },
        "id": "bjVhCB2Ea68W",
        "outputId": "cbff2dff-93f3-415d-fdff-36d4fde7065c"
      },
      "execution_count": null,
      "outputs": [
        {
          "output_type": "stream",
          "name": "stdout",
          "text": [
            "** 야구 게임 ** \n"
          ]
        }
      ]
    }
  ]
}